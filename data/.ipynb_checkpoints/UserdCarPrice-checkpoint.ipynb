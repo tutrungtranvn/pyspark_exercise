{
 "cells": [
  {
   "cell_type": "code",
   "execution_count": 1,
   "id": "7d0b8192",
   "metadata": {},
   "outputs": [],
   "source": [
    "import pyspark "
   ]
  },
  {
   "cell_type": "code",
   "execution_count": 2,
   "id": "c010aa38",
   "metadata": {},
   "outputs": [],
   "source": [
    "from pyspark.sql import SparkSession"
   ]
  },
  {
   "cell_type": "code",
   "execution_count": 3,
   "id": "94bf73ff",
   "metadata": {},
   "outputs": [
    {
     "name": "stderr",
     "output_type": "stream",
     "text": [
      "WARNING: An illegal reflective access operation has occurred\n",
      "WARNING: Illegal reflective access by org.apache.spark.unsafe.Platform (file:/usr/local/spark-3.2.0-bin-hadoop3.2/jars/spark-unsafe_2.12-3.2.0.jar) to constructor java.nio.DirectByteBuffer(long,int)\n",
      "WARNING: Please consider reporting this to the maintainers of org.apache.spark.unsafe.Platform\n",
      "WARNING: Use --illegal-access=warn to enable warnings of further illegal reflective access operations\n",
      "WARNING: All illegal access operations will be denied in a future release\n",
      "Using Spark's default log4j profile: org/apache/spark/log4j-defaults.properties\n",
      "Setting default log level to \"WARN\".\n",
      "To adjust logging level use sc.setLogLevel(newLevel). For SparkR, use setLogLevel(newLevel).\n",
      "21/12/14 03:14:55 WARN NativeCodeLoader: Unable to load native-hadoop library for your platform... using builtin-java classes where applicable\n"
     ]
    }
   ],
   "source": [
    "spark = SparkSession.builder.appName('AggFunc').getOrCreate()"
   ]
  },
  {
   "cell_type": "code",
   "execution_count": 4,
   "id": "e443b453",
   "metadata": {},
   "outputs": [],
   "source": [
    "df = spark.read.csv('Used_Car_Price_Data.csv',header = True)"
   ]
  },
  {
   "cell_type": "code",
   "execution_count": 5,
   "id": "a3e0941d",
   "metadata": {},
   "outputs": [
    {
     "name": "stdout",
     "output_type": "stream",
     "text": [
      "+--------------------+--------+------+------+------------+-----------+\n",
      "|                Name|Price($)|Milage|Review|Review_count|      Badge|\n",
      "+--------------------+--------+------+------+------------+-----------+\n",
      "|2021 Toyota Camry SE|  31,150|13,390|   4.5|         659| Good Deal |\n",
      "|2021 Toyota Supra...|  58,981| 7,348|   4.8|       2,744| Great Deal|\n",
      "|2019 Toyota Sequo...|  51,999|55,121|   4.5|       2,092| Great Deal|\n",
      "|2019 Toyota Camry SE|  25,689|49,126|     1|           1| Good Deal |\n",
      "|2017 Toyota Highl...|  31,591|84,621|   4.9|       1,745|  Good Deal|\n",
      "|2021 Toyota Supra...|  55,800|25,990|   4.6|         642| Good Deal |\n",
      "|2013 Toyota Land ...|  61,000|13,430|   4.3|         866|  Fair Deal|\n",
      "|2019 Toyota Camry SE|  25,493|49,550|   4.1|         637|  Fair Deal|\n",
      "|2019 Toyota Camry SE|  29,791|16,794|   4.8|       3,210|  Fair Deal|\n",
      "|2017 Toyota Corol...|  13,899|49,752|   3.3|          42|Great Deal |\n",
      "|2017 Toyota Highl...|  33,958|53,767|   4.9|       1,745|  Good Deal|\n",
      "|2019 Toyota Sequo...|  57,999|54,668|   4.5|       2,092|  Good Deal|\n",
      "|2019 Toyota Camry SE|  27,292|27,100|   4.4|         884|  Fair Deal|\n",
      "| 2020 Toyota RAV4 LE|  28,989|49,234|   4.6|         147|  Good Deal|\n",
      "|2019 Toyota Highl...|  41,588|18,137|   3.5|          96|  Fair Deal|\n",
      "|2016 Toyota 4Runn...|  32,797|80,825|   4.8|         785| Good Deal |\n",
      "|2019 Toyota Camry LE|  23,169|47,205|   4.9|          48|  Good Deal|\n",
      "|2021 Toyota Supra...|  62,998| 3,758|   4.5|         961| Great Deal|\n",
      "|2015 Toyota Highl...|  23,444|64,062|   4.8|         135| Good Deal |\n",
      "|2019 Toyota Corol...|  17,980|47,337|   4.5|       2,065|Great Deal |\n",
      "+--------------------+--------+------+------+------------+-----------+\n",
      "only showing top 20 rows\n",
      "\n"
     ]
    }
   ],
   "source": [
    "df.show()"
   ]
  },
  {
   "cell_type": "code",
   "execution_count": 6,
   "id": "25b0f659",
   "metadata": {},
   "outputs": [
    {
     "data": {
      "text/plain": [
       "1000"
      ]
     },
     "execution_count": 6,
     "metadata": {},
     "output_type": "execute_result"
    }
   ],
   "source": [
    "df.count()"
   ]
  },
  {
   "cell_type": "code",
   "execution_count": 7,
   "id": "75a76f15",
   "metadata": {},
   "outputs": [
    {
     "name": "stdout",
     "output_type": "stream",
     "text": [
      "root\n",
      " |-- Name: string (nullable = true)\n",
      " |-- Price($): string (nullable = true)\n",
      " |-- Milage: string (nullable = true)\n",
      " |-- Review: string (nullable = true)\n",
      " |-- Review_count: string (nullable = true)\n",
      " |-- Badge: string (nullable = true)\n",
      "\n"
     ]
    }
   ],
   "source": [
    "df.printSchema()"
   ]
  },
  {
   "cell_type": "code",
   "execution_count": 8,
   "id": "0aff19e0",
   "metadata": {},
   "outputs": [
    {
     "name": "stderr",
     "output_type": "stream",
     "text": [
      "\r",
      "[Stage 5:>                                                          (0 + 1) / 1]\r"
     ]
    },
    {
     "name": "stdout",
     "output_type": "stream",
     "text": [
      "+-------+--------------------+--------+------------------+-----------------+------------------+--------------+\n",
      "|summary|                Name|Price($)|            Milage|           Review|      Review_count|         Badge|\n",
      "+-------+--------------------+--------+------------------+-----------------+------------------+--------------+\n",
      "|  count|                1000|    1000|              1000|             1000|              1000|          1000|\n",
      "|   mean|                null|    null|             703.0|4.448846539618859|325.83230769230767|          null|\n",
      "| stddev|                null|    null|151.32085117392117|0.591702306908266|290.90424541826576|          null|\n",
      "|    min|1998 Toyota Camry...|1,01,500|             1,000|                1|                 0|CPO Warrantied|\n",
      "|    max|2021 Toyota Venza...|  96,626|            99,525|             null|               994|          null|\n",
      "+-------+--------------------+--------+------------------+-----------------+------------------+--------------+\n",
      "\n"
     ]
    },
    {
     "name": "stderr",
     "output_type": "stream",
     "text": [
      "\r",
      "                                                                                \r"
     ]
    }
   ],
   "source": [
    "df.describe().show()"
   ]
  },
  {
   "cell_type": "code",
   "execution_count": 9,
   "id": "54b0d009",
   "metadata": {},
   "outputs": [],
   "source": [
    "from pyspark.sql.types import IntegerType\n",
    "from pyspark.sql.types import FloatType"
   ]
  },
  {
   "cell_type": "code",
   "execution_count": 10,
   "id": "9d99f679",
   "metadata": {},
   "outputs": [],
   "source": [
    "import pyspark.sql.functions as f"
   ]
  },
  {
   "cell_type": "code",
   "execution_count": 11,
   "id": "05841467",
   "metadata": {},
   "outputs": [],
   "source": [
    "df = df.withColumn(\"Price\",f.translate(f.col(\"Price($)\"),\",\",\"\"))"
   ]
  },
  {
   "cell_type": "code",
   "execution_count": 12,
   "id": "f73c8c1f",
   "metadata": {},
   "outputs": [],
   "source": [
    "df = df.drop('Price($)')"
   ]
  },
  {
   "cell_type": "code",
   "execution_count": 13,
   "id": "77defbc0",
   "metadata": {},
   "outputs": [
    {
     "name": "stdout",
     "output_type": "stream",
     "text": [
      "+--------------------+------+------+------------+-----------+-----+\n",
      "|                Name|Milage|Review|Review_count|      Badge|Price|\n",
      "+--------------------+------+------+------------+-----------+-----+\n",
      "|2021 Toyota Camry SE|13,390|   4.5|         659| Good Deal |31150|\n",
      "|2021 Toyota Supra...| 7,348|   4.8|       2,744| Great Deal|58981|\n",
      "|2019 Toyota Sequo...|55,121|   4.5|       2,092| Great Deal|51999|\n",
      "|2019 Toyota Camry SE|49,126|     1|           1| Good Deal |25689|\n",
      "|2017 Toyota Highl...|84,621|   4.9|       1,745|  Good Deal|31591|\n",
      "|2021 Toyota Supra...|25,990|   4.6|         642| Good Deal |55800|\n",
      "|2013 Toyota Land ...|13,430|   4.3|         866|  Fair Deal|61000|\n",
      "|2019 Toyota Camry SE|49,550|   4.1|         637|  Fair Deal|25493|\n",
      "|2019 Toyota Camry SE|16,794|   4.8|       3,210|  Fair Deal|29791|\n",
      "|2017 Toyota Corol...|49,752|   3.3|          42|Great Deal |13899|\n",
      "|2017 Toyota Highl...|53,767|   4.9|       1,745|  Good Deal|33958|\n",
      "|2019 Toyota Sequo...|54,668|   4.5|       2,092|  Good Deal|57999|\n",
      "|2019 Toyota Camry SE|27,100|   4.4|         884|  Fair Deal|27292|\n",
      "| 2020 Toyota RAV4 LE|49,234|   4.6|         147|  Good Deal|28989|\n",
      "|2019 Toyota Highl...|18,137|   3.5|          96|  Fair Deal|41588|\n",
      "|2016 Toyota 4Runn...|80,825|   4.8|         785| Good Deal |32797|\n",
      "|2019 Toyota Camry LE|47,205|   4.9|          48|  Good Deal|23169|\n",
      "|2021 Toyota Supra...| 3,758|   4.5|         961| Great Deal|62998|\n",
      "|2015 Toyota Highl...|64,062|   4.8|         135| Good Deal |23444|\n",
      "|2019 Toyota Corol...|47,337|   4.5|       2,065|Great Deal |17980|\n",
      "+--------------------+------+------+------------+-----------+-----+\n",
      "only showing top 20 rows\n",
      "\n"
     ]
    }
   ],
   "source": [
    "df.show()"
   ]
  },
  {
   "cell_type": "code",
   "execution_count": 14,
   "id": "8836bf7f",
   "metadata": {},
   "outputs": [],
   "source": [
    "df = df.withColumn(\"Milage_New\",f.translate(f.col(\"Milage\"),\",\",\"\"))\n",
    "df = df.withColumn(\"ReviewCount\",f.translate(f.col(\"Review_count\"),\",\",\"\"))"
   ]
  },
  {
   "cell_type": "code",
   "execution_count": 15,
   "id": "e182bab7",
   "metadata": {},
   "outputs": [],
   "source": [
    "df = df.drop('Milage').drop('Review_count')"
   ]
  },
  {
   "cell_type": "code",
   "execution_count": 16,
   "id": "dedef09f",
   "metadata": {},
   "outputs": [
    {
     "name": "stdout",
     "output_type": "stream",
     "text": [
      "+--------------------+------+-----------+-----+----------+-----------+\n",
      "|                Name|Review|      Badge|Price|Milage_New|ReviewCount|\n",
      "+--------------------+------+-----------+-----+----------+-----------+\n",
      "|2021 Toyota Camry SE|   4.5| Good Deal |31150|     13390|        659|\n",
      "|2021 Toyota Supra...|   4.8| Great Deal|58981|      7348|       2744|\n",
      "|2019 Toyota Sequo...|   4.5| Great Deal|51999|     55121|       2092|\n",
      "|2019 Toyota Camry SE|     1| Good Deal |25689|     49126|          1|\n",
      "|2017 Toyota Highl...|   4.9|  Good Deal|31591|     84621|       1745|\n",
      "|2021 Toyota Supra...|   4.6| Good Deal |55800|     25990|        642|\n",
      "|2013 Toyota Land ...|   4.3|  Fair Deal|61000|     13430|        866|\n",
      "|2019 Toyota Camry SE|   4.1|  Fair Deal|25493|     49550|        637|\n",
      "|2019 Toyota Camry SE|   4.8|  Fair Deal|29791|     16794|       3210|\n",
      "|2017 Toyota Corol...|   3.3|Great Deal |13899|     49752|         42|\n",
      "|2017 Toyota Highl...|   4.9|  Good Deal|33958|     53767|       1745|\n",
      "|2019 Toyota Sequo...|   4.5|  Good Deal|57999|     54668|       2092|\n",
      "|2019 Toyota Camry SE|   4.4|  Fair Deal|27292|     27100|        884|\n",
      "| 2020 Toyota RAV4 LE|   4.6|  Good Deal|28989|     49234|        147|\n",
      "|2019 Toyota Highl...|   3.5|  Fair Deal|41588|     18137|         96|\n",
      "|2016 Toyota 4Runn...|   4.8| Good Deal |32797|     80825|        785|\n",
      "|2019 Toyota Camry LE|   4.9|  Good Deal|23169|     47205|         48|\n",
      "|2021 Toyota Supra...|   4.5| Great Deal|62998|      3758|        961|\n",
      "|2015 Toyota Highl...|   4.8| Good Deal |23444|     64062|        135|\n",
      "|2019 Toyota Corol...|   4.5|Great Deal |17980|     47337|       2065|\n",
      "+--------------------+------+-----------+-----+----------+-----------+\n",
      "only showing top 20 rows\n",
      "\n"
     ]
    }
   ],
   "source": [
    "df.show()"
   ]
  },
  {
   "cell_type": "code",
   "execution_count": 18,
   "id": "256cf872",
   "metadata": {},
   "outputs": [
    {
     "name": "stdout",
     "output_type": "stream",
     "text": [
      "root\n",
      " |-- Name: string (nullable = true)\n",
      " |-- Review: string (nullable = true)\n",
      " |-- Badge: string (nullable = true)\n",
      " |-- Price: string (nullable = true)\n",
      " |-- Milage_New: string (nullable = true)\n",
      " |-- ReviewCount: string (nullable = true)\n",
      "\n"
     ]
    }
   ],
   "source": [
    "df.printSchema()"
   ]
  },
  {
   "cell_type": "code",
   "execution_count": 19,
   "id": "2591b248",
   "metadata": {},
   "outputs": [],
   "source": [
    "df = df.withColumn('Price1',df['Price'].cast(IntegerType()))\n",
    "df = df.withColumn('Milage_New1',df['Milage_New'].cast(IntegerType()))\n",
    "df = df.withColumn('ReviewCount1',df['ReviewCount'].cast(IntegerType()))\n",
    "df = df.withColumn('Review1',df['Review'].cast(FloatType()))"
   ]
  },
  {
   "cell_type": "code",
   "execution_count": 20,
   "id": "39618fbf",
   "metadata": {},
   "outputs": [
    {
     "name": "stdout",
     "output_type": "stream",
     "text": [
      "root\n",
      " |-- Name: string (nullable = true)\n",
      " |-- Review: string (nullable = true)\n",
      " |-- Badge: string (nullable = true)\n",
      " |-- Price: string (nullable = true)\n",
      " |-- Milage_New: string (nullable = true)\n",
      " |-- ReviewCount: string (nullable = true)\n",
      " |-- Price1: integer (nullable = true)\n",
      " |-- Milage_New1: integer (nullable = true)\n",
      " |-- ReviewCount1: integer (nullable = true)\n",
      " |-- Review1: float (nullable = true)\n",
      "\n"
     ]
    }
   ],
   "source": [
    "df.printSchema()"
   ]
  },
  {
   "cell_type": "code",
   "execution_count": 21,
   "id": "317ea3ae",
   "metadata": {},
   "outputs": [],
   "source": [
    "df = df.drop('Price')\n",
    "df = df.drop('Milage_New')\n",
    "df = df.drop('ReviewCount')\n",
    "df = df.drop('Review')"
   ]
  },
  {
   "cell_type": "code",
   "execution_count": 22,
   "id": "897bb2d8",
   "metadata": {},
   "outputs": [
    {
     "name": "stdout",
     "output_type": "stream",
     "text": [
      "+--------------------+-----------+------+-----------+------------+-------+\n",
      "|                Name|      Badge|Price1|Milage_New1|ReviewCount1|Review1|\n",
      "+--------------------+-----------+------+-----------+------------+-------+\n",
      "|2021 Toyota Camry SE| Good Deal | 31150|      13390|         659|    4.5|\n",
      "|2021 Toyota Supra...| Great Deal| 58981|       7348|        2744|    4.8|\n",
      "|2019 Toyota Sequo...| Great Deal| 51999|      55121|        2092|    4.5|\n",
      "|2019 Toyota Camry SE| Good Deal | 25689|      49126|           1|    1.0|\n",
      "|2017 Toyota Highl...|  Good Deal| 31591|      84621|        1745|    4.9|\n",
      "|2021 Toyota Supra...| Good Deal | 55800|      25990|         642|    4.6|\n",
      "|2013 Toyota Land ...|  Fair Deal| 61000|      13430|         866|    4.3|\n",
      "|2019 Toyota Camry SE|  Fair Deal| 25493|      49550|         637|    4.1|\n",
      "|2019 Toyota Camry SE|  Fair Deal| 29791|      16794|        3210|    4.8|\n",
      "|2017 Toyota Corol...|Great Deal | 13899|      49752|          42|    3.3|\n",
      "|2017 Toyota Highl...|  Good Deal| 33958|      53767|        1745|    4.9|\n",
      "|2019 Toyota Sequo...|  Good Deal| 57999|      54668|        2092|    4.5|\n",
      "|2019 Toyota Camry SE|  Fair Deal| 27292|      27100|         884|    4.4|\n",
      "| 2020 Toyota RAV4 LE|  Good Deal| 28989|      49234|         147|    4.6|\n",
      "|2019 Toyota Highl...|  Fair Deal| 41588|      18137|          96|    3.5|\n",
      "|2016 Toyota 4Runn...| Good Deal | 32797|      80825|         785|    4.8|\n",
      "|2019 Toyota Camry LE|  Good Deal| 23169|      47205|          48|    4.9|\n",
      "|2021 Toyota Supra...| Great Deal| 62998|       3758|         961|    4.5|\n",
      "|2015 Toyota Highl...| Good Deal | 23444|      64062|         135|    4.8|\n",
      "|2019 Toyota Corol...|Great Deal | 17980|      47337|        2065|    4.5|\n",
      "+--------------------+-----------+------+-----------+------------+-------+\n",
      "only showing top 20 rows\n",
      "\n"
     ]
    }
   ],
   "source": [
    "df.show()"
   ]
  },
  {
   "cell_type": "code",
   "execution_count": 37,
   "id": "243854f4",
   "metadata": {},
   "outputs": [
    {
     "name": "stdout",
     "output_type": "stream",
     "text": [
      "+--------------+----------------+\n",
      "|         Badge|max(Milage_New1)|\n",
      "+--------------+----------------+\n",
      "| Home Delivery|          293420|\n",
      "|CPO Warrantied|           66623|\n",
      "|   Great Deal |          242684|\n",
      "|     Good Deal|          266178|\n",
      "|    Great Deal|          258855|\n",
      "|       Hot Car|          191504|\n",
      "|     Fair Deal|          232537|\n",
      "|    Good Deal |          160778|\n",
      "|          null|          273500|\n",
      "+--------------+----------------+\n",
      "\n"
     ]
    }
   ],
   "source": [
    "#Nhung xe co Milage cao nhat theo tung Badge\n",
    "df.groupBy('Badge').max(\"Milage_New1\").show()"
   ]
  },
  {
   "cell_type": "code",
   "execution_count": 27,
   "id": "eb7d4f07",
   "metadata": {},
   "outputs": [
    {
     "name": "stdout",
     "output_type": "stream",
     "text": [
      "root\n",
      " |-- Name: string (nullable = true)\n",
      " |-- Badge: string (nullable = true)\n",
      " |-- Price1: integer (nullable = true)\n",
      " |-- Milage_New1: integer (nullable = true)\n",
      " |-- ReviewCount1: integer (nullable = true)\n",
      " |-- Review1: float (nullable = true)\n",
      "\n"
     ]
    }
   ],
   "source": [
    "df.printSchema()"
   ]
  },
  {
   "cell_type": "code",
   "execution_count": 43,
   "id": "9cc5373a",
   "metadata": {},
   "outputs": [],
   "source": [
    "from pyspark.sql.functions import *"
   ]
  },
  {
   "cell_type": "code",
   "execution_count": 46,
   "id": "0213d60d",
   "metadata": {},
   "outputs": [
    {
     "name": "stdout",
     "output_type": "stream",
     "text": [
      "+--------------+---------+\n",
      "|         Badge|MilageMax|\n",
      "+--------------+---------+\n",
      "| Home Delivery|   293420|\n",
      "|CPO Warrantied|    66623|\n",
      "|   Great Deal |   242684|\n",
      "|     Good Deal|   266178|\n",
      "|    Great Deal|   258855|\n",
      "|       Hot Car|   191504|\n",
      "|     Fair Deal|   232537|\n",
      "|    Good Deal |   160778|\n",
      "|          null|   273500|\n",
      "+--------------+---------+\n",
      "\n"
     ]
    }
   ],
   "source": [
    "df.groupBy(\"Badge\").agg(max(\"Milage_New1\").alias(\"MilageMax\")).show()"
   ]
  },
  {
   "cell_type": "code",
   "execution_count": 64,
   "id": "913c9630",
   "metadata": {},
   "outputs": [
    {
     "name": "stdout",
     "output_type": "stream",
     "text": [
      "+--------------+--------------------+-----------+\n",
      "|         Badge|                Name|Milage_New1|\n",
      "+--------------+--------------------+-----------+\n",
      "|          null|2002 Toyota Tacom...|     273500|\n",
      "|    Good Deal |2012 Toyota 4Runn...|     160778|\n",
      "| Home Delivery|2002 Toyota Land ...|     293420|\n",
      "|     Fair Deal|2006 Toyota 4Runn...|     232537|\n",
      "|     Good Deal|2008 Toyota Land ...|     266178|\n",
      "|   Great Deal |2004 Toyota Highl...|     242684|\n",
      "|    Great Deal|2008 Toyota Sequo...|     258855|\n",
      "|       Hot Car|2017 Toyota Camry SE|     191504|\n",
      "|CPO Warrantied| 2018 Toyota RAV4 LE|      66623|\n",
      "+--------------+--------------------+-----------+\n",
      "\n"
     ]
    }
   ],
   "source": [
    "df.join(df.groupBy(\"Badge\").agg(max(\"Milage_New1\").alias(\"Milage_New1\")),on='Milage_New1',how='leftsemi').select('Badge','Name','Milage_New1').show()"
   ]
  },
  {
   "cell_type": "code",
   "execution_count": 61,
   "id": "73dd9815",
   "metadata": {},
   "outputs": [],
   "source": [
    "#Cach khac\n",
    "from pyspark.sql.window import Window\n",
    "from pyspark.sql.functions import col, row_number\n",
    "windowDept = Window.partitionBy(\"Badge\").orderBy(col(\"Milage_New1\").desc())"
   ]
  },
  {
   "cell_type": "code",
   "execution_count": null,
   "id": "68d035d6",
   "metadata": {},
   "outputs": [],
   "source": [
    "df.withColumn(\"row\",row_number().over(windowDept)) \\\n",
    "  .filter(col(\"row\") == 1).drop(\"row\") \\\n",
    "  .show()"
   ]
  },
  {
   "cell_type": "code",
   "execution_count": 65,
   "id": "ca9fe7b7",
   "metadata": {},
   "outputs": [
    {
     "name": "stdout",
     "output_type": "stream",
     "text": [
      "+--------------------+-----------+------+-----------+------------+-------+\n",
      "|                Name|      Badge|Price1|Milage_New1|ReviewCount1|Review1|\n",
      "+--------------------+-----------+------+-----------+------------+-------+\n",
      "|2021 Toyota Camry SE| Good Deal | 31150|      13390|         659|    4.5|\n",
      "|2021 Toyota Supra...| Great Deal| 58981|       7348|        2744|    4.8|\n",
      "|2019 Toyota Sequo...| Great Deal| 51999|      55121|        2092|    4.5|\n",
      "|2019 Toyota Camry SE| Good Deal | 25689|      49126|           1|    1.0|\n",
      "|2017 Toyota Highl...|  Good Deal| 31591|      84621|        1745|    4.9|\n",
      "|2021 Toyota Supra...| Good Deal | 55800|      25990|         642|    4.6|\n",
      "|2013 Toyota Land ...|  Fair Deal| 61000|      13430|         866|    4.3|\n",
      "|2019 Toyota Camry SE|  Fair Deal| 25493|      49550|         637|    4.1|\n",
      "|2019 Toyota Camry SE|  Fair Deal| 29791|      16794|        3210|    4.8|\n",
      "|2017 Toyota Corol...|Great Deal | 13899|      49752|          42|    3.3|\n",
      "|2017 Toyota Highl...|  Good Deal| 33958|      53767|        1745|    4.9|\n",
      "|2019 Toyota Sequo...|  Good Deal| 57999|      54668|        2092|    4.5|\n",
      "|2019 Toyota Camry SE|  Fair Deal| 27292|      27100|         884|    4.4|\n",
      "| 2020 Toyota RAV4 LE|  Good Deal| 28989|      49234|         147|    4.6|\n",
      "|2019 Toyota Highl...|  Fair Deal| 41588|      18137|          96|    3.5|\n",
      "|2016 Toyota 4Runn...| Good Deal | 32797|      80825|         785|    4.8|\n",
      "|2019 Toyota Camry LE|  Good Deal| 23169|      47205|          48|    4.9|\n",
      "|2021 Toyota Supra...| Great Deal| 62998|       3758|         961|    4.5|\n",
      "|2015 Toyota Highl...| Good Deal | 23444|      64062|         135|    4.8|\n",
      "|2019 Toyota Corol...|Great Deal | 17980|      47337|        2065|    4.5|\n",
      "+--------------------+-----------+------+-----------+------------+-------+\n",
      "only showing top 20 rows\n",
      "\n"
     ]
    }
   ],
   "source": [
    "df.show()"
   ]
  },
  {
   "cell_type": "code",
   "execution_count": 91,
   "id": "0b276b3e",
   "metadata": {},
   "outputs": [
    {
     "name": "stdout",
     "output_type": "stream",
     "text": [
      "+--------------------+-------------+------+-----------+------------+-------+\n",
      "|                Name|        Badge|Price1|Milage_New1|ReviewCount1|Review1|\n",
      "+--------------------+-------------+------+-----------+------------+-------+\n",
      "| 2018 Toyota RAV4 LE|  Great Deal | 24308|      32770|           1|    5.0|\n",
      "|2013 Toyota Corol...|    Good Deal| 13990|      17333|          57|    5.0|\n",
      "|2019 Toyota Highl...|    Good Deal| 39997|      28717|           1|    5.0|\n",
      "|2014 Toyota Land ...|Home Delivery| 48950|      91651|          12|    5.0|\n",
      "|2020 Toyota Tundr...|    Good Deal| 53957|      18149|           9|    5.0|\n",
      "|2018 Toyota Tacom...|  Great Deal | 29990|      16199|           1|    5.0|\n",
      "|2009 Toyota Camry...|      Hot Car|  8988|     151122|         368|    5.0|\n",
      "|2018 Toyota Camry SE|    Fair Deal| 27399|      34746|           1|    5.0|\n",
      "|2016 Toyota 4Runn...|    Good Deal| 32999|      70971|           1|    5.0|\n",
      "|2019 Toyota Corol...|    Good Deal| 18998|      58601|           1|    5.0|\n",
      "+--------------------+-------------+------+-----------+------------+-------+\n",
      "\n"
     ]
    }
   ],
   "source": [
    "df.orderBy('Review1',ascending = False).limit(10).show()"
   ]
  },
  {
   "cell_type": "code",
   "execution_count": null,
   "id": "5975c0d7",
   "metadata": {},
   "outputs": [],
   "source": []
  }
 ],
 "metadata": {
  "kernelspec": {
   "display_name": "Python 3 (ipykernel)",
   "language": "python",
   "name": "python3"
  },
  "language_info": {
   "codemirror_mode": {
    "name": "ipython",
    "version": 3
   },
   "file_extension": ".py",
   "mimetype": "text/x-python",
   "name": "python",
   "nbconvert_exporter": "python",
   "pygments_lexer": "ipython3",
   "version": "3.9.7"
  }
 },
 "nbformat": 4,
 "nbformat_minor": 5
}
