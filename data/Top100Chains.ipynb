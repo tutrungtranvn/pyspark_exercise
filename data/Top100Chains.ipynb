{
 "cells": [
  {
   "cell_type": "code",
   "execution_count": 1,
   "id": "ba79dedf",
   "metadata": {},
   "outputs": [],
   "source": [
    "import pyspark\n",
    "from pyspark.sql import SparkSession\n",
    "from pyspark.sql.types import * \n",
    "from pyspark.sql import * "
   ]
  },
  {
   "cell_type": "code",
   "execution_count": 2,
   "id": "b5be232f",
   "metadata": {},
   "outputs": [
    {
     "name": "stderr",
     "output_type": "stream",
     "text": [
      "WARNING: An illegal reflective access operation has occurred\n",
      "WARNING: Illegal reflective access by org.apache.spark.unsafe.Platform (file:/usr/local/spark-3.2.0-bin-hadoop3.2/jars/spark-unsafe_2.12-3.2.0.jar) to constructor java.nio.DirectByteBuffer(long,int)\n",
      "WARNING: Please consider reporting this to the maintainers of org.apache.spark.unsafe.Platform\n",
      "WARNING: Use --illegal-access=warn to enable warnings of further illegal reflective access operations\n",
      "WARNING: All illegal access operations will be denied in a future release\n",
      "Using Spark's default log4j profile: org/apache/spark/log4j-defaults.properties\n",
      "Setting default log level to \"WARN\".\n",
      "To adjust logging level use sc.setLogLevel(newLevel). For SparkR, use setLogLevel(newLevel).\n",
      "21/12/14 07:13:26 WARN NativeCodeLoader: Unable to load native-hadoop library for your platform... using builtin-java classes where applicable\n",
      "21/12/14 07:13:27 WARN Utils: Service 'SparkUI' could not bind on port 4040. Attempting port 4041.\n"
     ]
    }
   ],
   "source": [
    "spark = SparkSession.builder.appName('Top100Chains').getOrCreate()"
   ]
  },
  {
   "cell_type": "code",
   "execution_count": 3,
   "id": "5b2bc156",
   "metadata": {},
   "outputs": [
    {
     "name": "stdout",
     "output_type": "stream",
     "text": [
      "+----+--------------------+--------------------------+----------------+---------------+---------------+-------------+---------------+\n",
      "|RANK|               CHAIN|2020 U.S. Sales ($000,000)|YOY SALES CHANGE|2020 U.S. UNITS|YOY UNIT CHANGE|      SEGMENT|  MENU CATEGORY|\n",
      "+----+--------------------+--------------------------+----------------+---------------+---------------+-------------+---------------+\n",
      "|   1|          McDonald's|                   $40,517|           0.30%|         13,682|         -1.20%|Quick Service|         Burger|\n",
      "|   2|           Starbucks|                   $18,485|         -13.50%|         15,337|          1.90%|Quick Service|    Coffee Café|\n",
      "|   3|         Chick-fil-A|                   $13,745|          13.00%|          2,659|          6.70%|Quick Service|        Chicken|\n",
      "|   4|           Taco Bell|                   $11,294|           0.00%|          6,799|          0.50%|Quick Service|        Mexican|\n",
      "|   5|             Wendy's|                   $10,231|           4.80%|          5,881|          0.50%|Quick Service|         Burger|\n",
      "|   6|         Burger King|                    $9,657|          -5.40%|          7,081|         -3.60%|Quick Service|         Burger|\n",
      "|   7|             Dunkin'|                    $8,762|          -5.10%|          9,083|         -5.70%|Quick Service|    Coffee Cafe|\n",
      "|   8|              Subway|                    $8,318|         -18.50%|         22,005|         -7.50%|Quick Service|       Sandwich|\n",
      "|   9|            Domino's|                    $8,287|          17.60%|          6,355|          3.70%|Quick Service|          Pizza|\n",
      "|  10|Chipotle Mexican ...|                    $5,921|           6.50%|          2,724|          5.60%|  Fast Casual|        Mexican|\n",
      "|  11|      Sonic Drive-In|                    $5,680|          21.20%|          3,526|          0.00%|Quick Service|         Burger|\n",
      "|  12|           Pizza Hut|                    $5,436|          -2.20%|          6,561|        -10.20%|Quick Service|          Pizza|\n",
      "|  13|        Panera Bread|                    $5,350|         -10.50%|          2,106|         -2.30%|  Fast Casual|       Sandwich|\n",
      "|  14|                 KFC|                    $4,742|           4.30%|          3,943|         -3.00%|Quick Service|        Chicken|\n",
      "|  15|Popeyes Louisiana...|                    $4,587|          20.30%|          2,608|          5.30%|Quick Service|        Chicken|\n",
      "|  16|              Arby's|                    $4,215|           8.50%|          3,369|          0.30%|Quick Service|       Sandwich|\n",
      "|  17|         Dairy Queen|                    $3,978|           5.80%|          4,361|         -0.50%|Quick Service|Frozen Desserts|\n",
      "|  18|      Little Caesars|                    $3,947|           3.50%|          4,150|         -1.50%|Quick Service|          Pizza|\n",
      "|  19|       Panda Express|                    $3,817|          -3.30%|          2,263|          2.40%|  Fast Casual|   Asian/Noodle|\n",
      "|  20|     Jack in the Box|                    $3,673|           4.80%|          2,241|         -0.10%|Quick Service|         Burger|\n",
      "+----+--------------------+--------------------------+----------------+---------------+---------------+-------------+---------------+\n",
      "only showing top 20 rows\n",
      "\n"
     ]
    }
   ],
   "source": [
    "df = spark.read.csv('Top100Chains.csv',header = True)\n",
    "df.show()"
   ]
  },
  {
   "cell_type": "code",
   "execution_count": 4,
   "id": "c9490e3e",
   "metadata": {},
   "outputs": [
    {
     "name": "stdout",
     "output_type": "stream",
     "text": [
      "root\n",
      " |-- RANK: string (nullable = true)\n",
      " |-- CHAIN: string (nullable = true)\n",
      " |-- 2020 U.S. Sales ($000,000): string (nullable = true)\n",
      " |-- YOY SALES CHANGE: string (nullable = true)\n",
      " |-- 2020 U.S. UNITS: string (nullable = true)\n",
      " |-- YOY UNIT CHANGE: string (nullable = true)\n",
      " |-- SEGMENT: string (nullable = true)\n",
      " |-- MENU CATEGORY: string (nullable = true)\n",
      "\n"
     ]
    }
   ],
   "source": [
    "df.printSchema()"
   ]
  },
  {
   "cell_type": "code",
   "execution_count": 5,
   "id": "0419991e",
   "metadata": {},
   "outputs": [],
   "source": [
    "from pyspark.sql.types import StructField,IntegerType, StructType,StringType"
   ]
  },
  {
   "cell_type": "code",
   "execution_count": 6,
   "id": "6a8ce716",
   "metadata": {},
   "outputs": [],
   "source": [
    "newDF=[StructField('Rank',IntegerType(),True),\n",
    "       StructField('Chain',StringType(),True),\n",
    "       StructField('Sales2020',StringType(),True),\n",
    "       StructField('Comparison',StringType(),True),\n",
    "       StructField('Unit2020',IntegerType(),True),\n",
    "       StructField('UnitChange',IntegerType(),True),\n",
    "       StructField('Segment',StringType(),True),\n",
    "       StructField('MenuCategory',StringType(),True)\n",
    "       ]\n",
    "finalStruct=StructType(fields=newDF)\n",
    "df=spark.read.csv('Top100Chains.csv',schema=finalStruct)"
   ]
  },
  {
   "cell_type": "code",
   "execution_count": 7,
   "id": "767c827c",
   "metadata": {},
   "outputs": [
    {
     "name": "stdout",
     "output_type": "stream",
     "text": [
      "+----+--------------------+--------------------+----------------+--------+----------+-------------+---------------+\n",
      "|Rank|               Chain|           Sales2020|      Comparison|Unit2020|UnitChange|      Segment|   MenuCategory|\n",
      "+----+--------------------+--------------------+----------------+--------+----------+-------------+---------------+\n",
      "|null|               CHAIN|2020 U.S. Sales (...|YOY SALES CHANGE|    null|      null|      SEGMENT|  MENU CATEGORY|\n",
      "|   1|          McDonald's|             $40,517|           0.30%|    null|      null|Quick Service|         Burger|\n",
      "|   2|           Starbucks|             $18,485|         -13.50%|    null|      null|Quick Service|    Coffee Café|\n",
      "|   3|         Chick-fil-A|             $13,745|          13.00%|    null|      null|Quick Service|        Chicken|\n",
      "|   4|           Taco Bell|             $11,294|           0.00%|    null|      null|Quick Service|        Mexican|\n",
      "|   5|             Wendy's|             $10,231|           4.80%|    null|      null|Quick Service|         Burger|\n",
      "|   6|         Burger King|              $9,657|          -5.40%|    null|      null|Quick Service|         Burger|\n",
      "|   7|             Dunkin'|              $8,762|          -5.10%|    null|      null|Quick Service|    Coffee Cafe|\n",
      "|   8|              Subway|              $8,318|         -18.50%|    null|      null|Quick Service|       Sandwich|\n",
      "|   9|            Domino's|              $8,287|          17.60%|    null|      null|Quick Service|          Pizza|\n",
      "|  10|Chipotle Mexican ...|              $5,921|           6.50%|    null|      null|  Fast Casual|        Mexican|\n",
      "|  11|      Sonic Drive-In|              $5,680|          21.20%|    null|      null|Quick Service|         Burger|\n",
      "|  12|           Pizza Hut|              $5,436|          -2.20%|    null|      null|Quick Service|          Pizza|\n",
      "|  13|        Panera Bread|              $5,350|         -10.50%|    null|      null|  Fast Casual|       Sandwich|\n",
      "|  14|                 KFC|              $4,742|           4.30%|    null|      null|Quick Service|        Chicken|\n",
      "|  15|Popeyes Louisiana...|              $4,587|          20.30%|    null|      null|Quick Service|        Chicken|\n",
      "|  16|              Arby's|              $4,215|           8.50%|    null|      null|Quick Service|       Sandwich|\n",
      "|  17|         Dairy Queen|              $3,978|           5.80%|    null|      null|Quick Service|Frozen Desserts|\n",
      "|  18|      Little Caesars|              $3,947|           3.50%|    null|      null|Quick Service|          Pizza|\n",
      "|  19|       Panda Express|              $3,817|          -3.30%|    null|      null|  Fast Casual|   Asian/Noodle|\n",
      "+----+--------------------+--------------------+----------------+--------+----------+-------------+---------------+\n",
      "only showing top 20 rows\n",
      "\n"
     ]
    }
   ],
   "source": [
    "df.show()"
   ]
  },
  {
   "cell_type": "code",
   "execution_count": 8,
   "id": "ade5dea0",
   "metadata": {},
   "outputs": [],
   "source": [
    "df = df.drop('Unit2020','UnitChange')"
   ]
  },
  {
   "cell_type": "code",
   "execution_count": 9,
   "id": "07e5634b",
   "metadata": {},
   "outputs": [
    {
     "name": "stdout",
     "output_type": "stream",
     "text": [
      "+----+--------------------+--------------------+----------------+-------------+---------------+\n",
      "|Rank|               Chain|           Sales2020|      Comparison|      Segment|   MenuCategory|\n",
      "+----+--------------------+--------------------+----------------+-------------+---------------+\n",
      "|null|               CHAIN|2020 U.S. Sales (...|YOY SALES CHANGE|      SEGMENT|  MENU CATEGORY|\n",
      "|   1|          McDonald's|             $40,517|           0.30%|Quick Service|         Burger|\n",
      "|   2|           Starbucks|             $18,485|         -13.50%|Quick Service|    Coffee Café|\n",
      "|   3|         Chick-fil-A|             $13,745|          13.00%|Quick Service|        Chicken|\n",
      "|   4|           Taco Bell|             $11,294|           0.00%|Quick Service|        Mexican|\n",
      "|   5|             Wendy's|             $10,231|           4.80%|Quick Service|         Burger|\n",
      "|   6|         Burger King|              $9,657|          -5.40%|Quick Service|         Burger|\n",
      "|   7|             Dunkin'|              $8,762|          -5.10%|Quick Service|    Coffee Cafe|\n",
      "|   8|              Subway|              $8,318|         -18.50%|Quick Service|       Sandwich|\n",
      "|   9|            Domino's|              $8,287|          17.60%|Quick Service|          Pizza|\n",
      "|  10|Chipotle Mexican ...|              $5,921|           6.50%|  Fast Casual|        Mexican|\n",
      "|  11|      Sonic Drive-In|              $5,680|          21.20%|Quick Service|         Burger|\n",
      "|  12|           Pizza Hut|              $5,436|          -2.20%|Quick Service|          Pizza|\n",
      "|  13|        Panera Bread|              $5,350|         -10.50%|  Fast Casual|       Sandwich|\n",
      "|  14|                 KFC|              $4,742|           4.30%|Quick Service|        Chicken|\n",
      "|  15|Popeyes Louisiana...|              $4,587|          20.30%|Quick Service|        Chicken|\n",
      "|  16|              Arby's|              $4,215|           8.50%|Quick Service|       Sandwich|\n",
      "|  17|         Dairy Queen|              $3,978|           5.80%|Quick Service|Frozen Desserts|\n",
      "|  18|      Little Caesars|              $3,947|           3.50%|Quick Service|          Pizza|\n",
      "|  19|       Panda Express|              $3,817|          -3.30%|  Fast Casual|   Asian/Noodle|\n",
      "+----+--------------------+--------------------+----------------+-------------+---------------+\n",
      "only showing top 20 rows\n",
      "\n"
     ]
    }
   ],
   "source": [
    "df.show()"
   ]
  },
  {
   "cell_type": "code",
   "execution_count": 10,
   "id": "c5dc1867",
   "metadata": {},
   "outputs": [],
   "source": [
    "import pyspark.sql.functions as f "
   ]
  },
  {
   "cell_type": "code",
   "execution_count": 11,
   "id": "77fe5eba",
   "metadata": {},
   "outputs": [],
   "source": [
    "df = df.withColumn('Sales',f.translate(f.col('Sales2020'),'$,',''))"
   ]
  },
  {
   "cell_type": "code",
   "execution_count": 12,
   "id": "36fc6a02",
   "metadata": {},
   "outputs": [
    {
     "data": {
      "text/plain": [
       "pyspark.sql.dataframe.DataFrame"
      ]
     },
     "execution_count": 12,
     "metadata": {},
     "output_type": "execute_result"
    }
   ],
   "source": [
    "type(df)"
   ]
  },
  {
   "cell_type": "code",
   "execution_count": 13,
   "id": "f1b53b53",
   "metadata": {},
   "outputs": [
    {
     "name": "stdout",
     "output_type": "stream",
     "text": [
      "+----+--------------------+--------------------+----------------+-------------+---------------+--------------------+\n",
      "|Rank|               Chain|           Sales2020|      Comparison|      Segment|   MenuCategory|               Sales|\n",
      "+----+--------------------+--------------------+----------------+-------------+---------------+--------------------+\n",
      "|null|               CHAIN|2020 U.S. Sales (...|YOY SALES CHANGE|      SEGMENT|  MENU CATEGORY|2020 U.S. Sales (...|\n",
      "|   1|          McDonald's|             $40,517|           0.30%|Quick Service|         Burger|               40517|\n",
      "|   2|           Starbucks|             $18,485|         -13.50%|Quick Service|    Coffee Café|               18485|\n",
      "|   3|         Chick-fil-A|             $13,745|          13.00%|Quick Service|        Chicken|               13745|\n",
      "|   4|           Taco Bell|             $11,294|           0.00%|Quick Service|        Mexican|               11294|\n",
      "|   5|             Wendy's|             $10,231|           4.80%|Quick Service|         Burger|               10231|\n",
      "|   6|         Burger King|              $9,657|          -5.40%|Quick Service|         Burger|                9657|\n",
      "|   7|             Dunkin'|              $8,762|          -5.10%|Quick Service|    Coffee Cafe|                8762|\n",
      "|   8|              Subway|              $8,318|         -18.50%|Quick Service|       Sandwich|                8318|\n",
      "|   9|            Domino's|              $8,287|          17.60%|Quick Service|          Pizza|                8287|\n",
      "|  10|Chipotle Mexican ...|              $5,921|           6.50%|  Fast Casual|        Mexican|                5921|\n",
      "|  11|      Sonic Drive-In|              $5,680|          21.20%|Quick Service|         Burger|                5680|\n",
      "|  12|           Pizza Hut|              $5,436|          -2.20%|Quick Service|          Pizza|                5436|\n",
      "|  13|        Panera Bread|              $5,350|         -10.50%|  Fast Casual|       Sandwich|                5350|\n",
      "|  14|                 KFC|              $4,742|           4.30%|Quick Service|        Chicken|                4742|\n",
      "|  15|Popeyes Louisiana...|              $4,587|          20.30%|Quick Service|        Chicken|                4587|\n",
      "|  16|              Arby's|              $4,215|           8.50%|Quick Service|       Sandwich|                4215|\n",
      "|  17|         Dairy Queen|              $3,978|           5.80%|Quick Service|Frozen Desserts|                3978|\n",
      "|  18|      Little Caesars|              $3,947|           3.50%|Quick Service|          Pizza|                3947|\n",
      "|  19|       Panda Express|              $3,817|          -3.30%|  Fast Casual|   Asian/Noodle|                3817|\n",
      "+----+--------------------+--------------------+----------------+-------------+---------------+--------------------+\n",
      "only showing top 20 rows\n",
      "\n"
     ]
    }
   ],
   "source": [
    "df.show()"
   ]
  },
  {
   "cell_type": "code",
   "execution_count": 14,
   "id": "47d4b637",
   "metadata": {},
   "outputs": [],
   "source": [
    "from pyspark.sql.functions import col"
   ]
  },
  {
   "cell_type": "code",
   "execution_count": 15,
   "id": "870c1331",
   "metadata": {},
   "outputs": [],
   "source": [
    "df = df.where(col(\"Rank\").isNotNull())"
   ]
  },
  {
   "cell_type": "code",
   "execution_count": 16,
   "id": "91d716fb",
   "metadata": {},
   "outputs": [],
   "source": [
    "df = df.drop('Sales2020')"
   ]
  },
  {
   "cell_type": "code",
   "execution_count": 18,
   "id": "cdd26125",
   "metadata": {},
   "outputs": [
    {
     "name": "stdout",
     "output_type": "stream",
     "text": [
      "+----+--------------------+----------+-------------+---------------+-----+\n",
      "|Rank|               Chain|Comparison|      Segment|   MenuCategory|Sales|\n",
      "+----+--------------------+----------+-------------+---------------+-----+\n",
      "|   1|          McDonald's|     0.30%|Quick Service|         Burger|40517|\n",
      "|   2|           Starbucks|   -13.50%|Quick Service|    Coffee Café|18485|\n",
      "|   3|         Chick-fil-A|    13.00%|Quick Service|        Chicken|13745|\n",
      "|   4|           Taco Bell|     0.00%|Quick Service|        Mexican|11294|\n",
      "|   5|             Wendy's|     4.80%|Quick Service|         Burger|10231|\n",
      "|   6|         Burger King|    -5.40%|Quick Service|         Burger| 9657|\n",
      "|   7|             Dunkin'|    -5.10%|Quick Service|    Coffee Cafe| 8762|\n",
      "|   8|              Subway|   -18.50%|Quick Service|       Sandwich| 8318|\n",
      "|   9|            Domino's|    17.60%|Quick Service|          Pizza| 8287|\n",
      "|  10|Chipotle Mexican ...|     6.50%|  Fast Casual|        Mexican| 5921|\n",
      "|  11|      Sonic Drive-In|    21.20%|Quick Service|         Burger| 5680|\n",
      "|  12|           Pizza Hut|    -2.20%|Quick Service|          Pizza| 5436|\n",
      "|  13|        Panera Bread|   -10.50%|  Fast Casual|       Sandwich| 5350|\n",
      "|  14|                 KFC|     4.30%|Quick Service|        Chicken| 4742|\n",
      "|  15|Popeyes Louisiana...|    20.30%|Quick Service|        Chicken| 4587|\n",
      "|  16|              Arby's|     8.50%|Quick Service|       Sandwich| 4215|\n",
      "|  17|         Dairy Queen|     5.80%|Quick Service|Frozen Desserts| 3978|\n",
      "|  18|      Little Caesars|     3.50%|Quick Service|          Pizza| 3947|\n",
      "|  19|       Panda Express|    -3.30%|  Fast Casual|   Asian/Noodle| 3817|\n",
      "|  20|     Jack in the Box|     4.80%|Quick Service|         Burger| 3673|\n",
      "+----+--------------------+----------+-------------+---------------+-----+\n",
      "only showing top 20 rows\n",
      "\n"
     ]
    }
   ],
   "source": [
    "df.show()"
   ]
  },
  {
   "cell_type": "code",
   "execution_count": 20,
   "id": "67499c3d",
   "metadata": {},
   "outputs": [],
   "source": [
    "from pyspark.sql.functions import round"
   ]
  },
  {
   "cell_type": "code",
   "execution_count": 21,
   "id": "f2721366",
   "metadata": {},
   "outputs": [],
   "source": [
    "df = df.withColumn('Comparison1',round((f.translate(f.col('Comparison'),'%','')\n",
    "                                   .cast(FloatType()))/100,3)).drop('Comparison')"
   ]
  },
  {
   "cell_type": "code",
   "execution_count": 24,
   "id": "7344c656",
   "metadata": {},
   "outputs": [
    {
     "name": "stdout",
     "output_type": "stream",
     "text": [
      "root\n",
      " |-- Rank: integer (nullable = true)\n",
      " |-- Chain: string (nullable = true)\n",
      " |-- Segment: string (nullable = true)\n",
      " |-- MenuCategory: string (nullable = true)\n",
      " |-- Comparison1: double (nullable = true)\n",
      " |-- Sales1: integer (nullable = true)\n",
      "\n"
     ]
    }
   ],
   "source": [
    "df.printSchema()"
   ]
  },
  {
   "cell_type": "code",
   "execution_count": 23,
   "id": "5c90fa9c",
   "metadata": {},
   "outputs": [],
   "source": [
    "df = df.withColumn('Sales1',df['Sales'].cast(IntegerType())).drop('Sales')"
   ]
  },
  {
   "cell_type": "code",
   "execution_count": 25,
   "id": "18d87506",
   "metadata": {},
   "outputs": [
    {
     "name": "stdout",
     "output_type": "stream",
     "text": [
      "+----+--------------------+-------------+---------------+-----------+------+\n",
      "|Rank|               Chain|      Segment|   MenuCategory|Comparison1|Sales1|\n",
      "+----+--------------------+-------------+---------------+-----------+------+\n",
      "|   1|          McDonald's|Quick Service|         Burger|      0.003| 40517|\n",
      "|   2|           Starbucks|Quick Service|    Coffee Café|     -0.135| 18485|\n",
      "|   3|         Chick-fil-A|Quick Service|        Chicken|       0.13| 13745|\n",
      "|   4|           Taco Bell|Quick Service|        Mexican|        0.0| 11294|\n",
      "|   5|             Wendy's|Quick Service|         Burger|      0.048| 10231|\n",
      "|   6|         Burger King|Quick Service|         Burger|     -0.054|  9657|\n",
      "|   7|             Dunkin'|Quick Service|    Coffee Cafe|     -0.051|  8762|\n",
      "|   8|              Subway|Quick Service|       Sandwich|     -0.185|  8318|\n",
      "|   9|            Domino's|Quick Service|          Pizza|      0.176|  8287|\n",
      "|  10|Chipotle Mexican ...|  Fast Casual|        Mexican|      0.065|  5921|\n",
      "|  11|      Sonic Drive-In|Quick Service|         Burger|      0.212|  5680|\n",
      "|  12|           Pizza Hut|Quick Service|          Pizza|     -0.022|  5436|\n",
      "|  13|        Panera Bread|  Fast Casual|       Sandwich|     -0.105|  5350|\n",
      "|  14|                 KFC|Quick Service|        Chicken|      0.043|  4742|\n",
      "|  15|Popeyes Louisiana...|Quick Service|        Chicken|      0.203|  4587|\n",
      "|  16|              Arby's|Quick Service|       Sandwich|      0.085|  4215|\n",
      "|  17|         Dairy Queen|Quick Service|Frozen Desserts|      0.058|  3978|\n",
      "|  18|      Little Caesars|Quick Service|          Pizza|      0.035|  3947|\n",
      "|  19|       Panda Express|  Fast Casual|   Asian/Noodle|     -0.033|  3817|\n",
      "|  20|     Jack in the Box|Quick Service|         Burger|      0.048|  3673|\n",
      "+----+--------------------+-------------+---------------+-----------+------+\n",
      "only showing top 20 rows\n",
      "\n"
     ]
    }
   ],
   "source": [
    "df.show()"
   ]
  },
  {
   "cell_type": "code",
   "execution_count": 27,
   "id": "6436f3ea",
   "metadata": {},
   "outputs": [
    {
     "name": "stdout",
     "output_type": "stream",
     "text": [
      "+---------------+-----------+\n",
      "|        Segment|max(Sales1)|\n",
      "+---------------+-----------+\n",
      "|    Fine Dining|        429|\n",
      "|       Midscale|       2138|\n",
      "|    Fast Casual|       5921|\n",
      "|  \\tFast Casual|       1711|\n",
      "|  Casual Dining|       3407|\n",
      "|  Quick Service|      40517|\n",
      "|\\tQuick Service|        388|\n",
      "+---------------+-----------+\n",
      "\n"
     ]
    }
   ],
   "source": [
    "#Top 10 Sales Segment \"Quick Service\"\n",
    "df.groupby('Segment').max('Sales1').show()"
   ]
  },
  {
   "cell_type": "code",
   "execution_count": 28,
   "id": "daeb0028",
   "metadata": {},
   "outputs": [],
   "source": [
    "from pyspark.sql.window import Window\n",
    "from pyspark.sql.functions import col, row_number"
   ]
  },
  {
   "cell_type": "code",
   "execution_count": 30,
   "id": "3ffd907b",
   "metadata": {},
   "outputs": [],
   "source": [
    "windowTemp = Window.partitionBy('Segment').orderBy(col('Sales1').desc())"
   ]
  },
  {
   "cell_type": "code",
   "execution_count": 34,
   "id": "a8d691a4",
   "metadata": {},
   "outputs": [
    {
     "name": "stdout",
     "output_type": "stream",
     "text": [
      "+----+--------------------+---------------+-------------+-----------+------+\n",
      "|Rank|               Chain|        Segment| MenuCategory|Comparison1|Sales1|\n",
      "+----+--------------------+---------------+-------------+-----------+------+\n",
      "|   1|          McDonald's|  Quick Service|       Burger|      0.003| 40517|\n",
      "|  10|Chipotle Mexican ...|    Fast Casual|      Mexican|      0.065|  5921|\n",
      "|  21|        Olive Garden|  Casual Dining|Italian/Pizza|     -0.205|  3407|\n",
      "|  28|                IHOP|       Midscale| Family Style|     -0.346|  2138|\n",
      "|  39|           Five Guys|  \\tFast Casual|       Burger|       0.03|  1711|\n",
      "|  85|Ruth's Chris Stea...|    Fine Dining|        Steak|      -0.39|   429|\n",
      "|  93|         Taco John's|\\tQuick Service|      Mexican|      0.047|   388|\n",
      "+----+--------------------+---------------+-------------+-----------+------+\n",
      "\n"
     ]
    }
   ],
   "source": [
    "df.withColumn('row',row_number().over(windowTemp)).filter(col('row') == 1).drop('row').orderBy(col('Sales1').desc()).show()"
   ]
  },
  {
   "cell_type": "code",
   "execution_count": null,
   "id": "8a850adf",
   "metadata": {},
   "outputs": [],
   "source": []
  }
 ],
 "metadata": {
  "kernelspec": {
   "display_name": "Python 3 (ipykernel)",
   "language": "python",
   "name": "python3"
  },
  "language_info": {
   "codemirror_mode": {
    "name": "ipython",
    "version": 3
   },
   "file_extension": ".py",
   "mimetype": "text/x-python",
   "name": "python",
   "nbconvert_exporter": "python",
   "pygments_lexer": "ipython3",
   "version": "3.9.7"
  }
 },
 "nbformat": 4,
 "nbformat_minor": 5
}
